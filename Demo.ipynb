{
 "cells": [
  {
   "cell_type": "code",
   "execution_count": 1,
   "id": "bd0b921c",
   "metadata": {},
   "outputs": [
    {
     "name": "stderr",
     "output_type": "stream",
     "text": [
      "/home/dminn/Projects/noise-aware-passage-retrieval/passage_retrieval_env/lib/python3.8/site-packages/tqdm/auto.py:22: TqdmWarning: IProgress not found. Please update jupyter and ipywidgets. See https://ipywidgets.readthedocs.io/en/stable/user_install.html\n",
      "  from .autonotebook import tqdm as notebook_tqdm\n"
     ]
    }
   ],
   "source": [
    "# Utilities\n",
    "import time\n",
    "\n",
    "# Pytorch Imports\n",
    "import torch\n",
    "import torch.nn as nn\n",
    "import torch.nn.functional as F\n",
    "import torch.optim as optim\n",
    "from torch.optim import lr_scheduler\n",
    "from torch.utils.data import Dataset, DataLoader, random_split\n",
    "\n",
    "import pytorch_lightning as pl\n",
    "\n",
    "# Huggingface\n",
    "from transformers import AutoTokenizer, AutoModel, AdamW\n",
    "\n",
    "# Repository \n",
    "from utils import *\n",
    "from dataset.triples import TriplesDataset\n",
    "from model.cross_encoder import CrossEncoder\n",
    "# from trainer.train import Trainer\n",
    "%load_ext autoreload\n",
    "%autoreload 2\n",
    "\n",
    "from tqdm.notebook import tqdm"
   ]
  },
  {
   "cell_type": "code",
   "execution_count": 2,
   "id": "e0b0711c",
   "metadata": {},
   "outputs": [],
   "source": [
    "CONFIG = {\n",
    "    'model_name': 'distilbert-base-uncased',\n",
    "    'query_maxlen': 64,\n",
    "    'passage_maxlen': 64,\n",
    "    'batch_size': 4,\n",
    "    'epochs': 4,\n",
    "    'learning_rate': 3e-5,\n",
    "}"
   ]
  },
  {
   "cell_type": "code",
   "execution_count": null,
   "id": "7796f4a6",
   "metadata": {
    "scrolled": true
   },
   "outputs": [],
   "source": [
    "qidpidtriples = util.read_qidpidtriples('data/qidpidtriples.train.full.2.tsv')\n",
    "train_queries = util.read_queries('data/queries.train.tsv')\n",
    "collection = util.read_collection('data/collection.tsv')"
   ]
  },
  {
   "cell_type": "code",
   "execution_count": null,
   "id": "6f3a436a",
   "metadata": {
    "scrolled": false
   },
   "outputs": [],
   "source": [
    "tokenizer = AutoTokenizer.from_pretrained(CONFIG['model_name'])\n",
    "\n",
    "triples_dataset = TriplesDataset(collection, train_queries, qidpidtriples, \n",
    "                                 tokenizer, CONFIG['query_maxlen'], CONFIG['passage_maxlen'])\n",
    "\n"
   ]
  },
  {
   "cell_type": "code",
   "execution_count": null,
   "id": "723e20a9",
   "metadata": {},
   "outputs": [],
   "source": [
    "triples_dataloader = DataLoader(triples_dataset, batch_size=4)\n",
    "val_dataloader = DataLoader(triples_dataset, batch_size=4)\n",
    "batch = next(iter(triples_dataloader))\n",
    "for key, val in batch.items():\n",
    "    print(f'{key}: {val.shape}')"
   ]
  },
  {
   "cell_type": "code",
   "execution_count": null,
   "id": "ea7a6637",
   "metadata": {
    "scrolled": true
   },
   "outputs": [],
   "source": [
    "trainer = pl.Trainer(fast_dev_run=False, gpus=1, log_every_n_steps=1, max_epochs=3)\n",
    "model = CrossEncoder(**CONFIG)\n",
    "# optimizer = torch.optim.Adam(params = model.parameters(), lr = 2e-5)\n",
    "# criterion = nn.MarginRankingLoss()"
   ]
  },
  {
   "cell_type": "code",
   "execution_count": null,
   "id": "3387cd06",
   "metadata": {
    "scrolled": true
   },
   "outputs": [],
   "source": [
    "trainer.fit(model=model, train_dataloaders=triples_dataloader, val_dataloaders=val_dataloader)"
   ]
  }
 ],
 "metadata": {
  "kernelspec": {
   "display_name": "Python 3 (ipykernel)",
   "language": "python",
   "name": "python3"
  },
  "language_info": {
   "codemirror_mode": {
    "name": "ipython",
    "version": 3
   },
   "file_extension": ".py",
   "mimetype": "text/x-python",
   "name": "python",
   "nbconvert_exporter": "python",
   "pygments_lexer": "ipython3",
   "version": "3.8.10"
  }
 },
 "nbformat": 4,
 "nbformat_minor": 5
}
